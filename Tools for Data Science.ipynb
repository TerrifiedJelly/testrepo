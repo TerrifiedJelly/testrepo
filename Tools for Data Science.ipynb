{
    "cells": [
        {
            "cell_type": "markdown",
            "metadata": {
                "collapsed": true
            },
            "source": "# My Jupyter Notebook on IBM Watson Studio"
        },
        {
            "cell_type": "markdown",
            "metadata": {},
            "source": "**Zoe Bennett**\n\nSenior Reporting Analyst in the Retail Sector"
        },
        {
            "cell_type": "markdown",
            "metadata": {},
            "source": "*My interest in Data Science stems from my love of data analytics. I want to be able to take my work (and subsequently, career) further by using Data Science techniques such as Regression, Classification and Time Series Analysis to improve analytics and provide the company with more intelligent insights.*"
        },
        {
            "cell_type": "markdown",
            "metadata": {},
            "source": "### The code below should square the value of 'x' and provide the result under the variable 'y'."
        },
        {
            "cell_type": "code",
            "execution_count": 4,
            "metadata": {},
            "outputs": [
                {
                    "name": "stdout",
                    "output_type": "stream",
                    "text": "25\n"
                }
            ],
            "source": "x=5\ny=x**2\nprint(y)"
        },
        {
            "cell_type": "markdown",
            "metadata": {},
            "source": "~~This is an example of strikethrough~~"
        },
        {
            "cell_type": "markdown",
            "metadata": {},
            "source": "[This is an example of a link to Google](https://www.google.com \"Google's Homepage\")"
        },
        {
            "cell_type": "markdown",
            "metadata": {},
            "source": "```python\nex_block = \"This is an example of a code block\"\nprint(ex_block)\n```"
        },
        {
            "cell_type": "markdown",
            "metadata": {},
            "source": "This is an example of horizontal rule:\n___"
        }
    ],
    "metadata": {
        "kernelspec": {
            "display_name": "Python 3.7",
            "language": "python",
            "name": "python3"
        },
        "language_info": {
            "codemirror_mode": {
                "name": "ipython",
                "version": 3
            },
            "file_extension": ".py",
            "mimetype": "text/x-python",
            "name": "python",
            "nbconvert_exporter": "python",
            "pygments_lexer": "ipython3",
            "version": "3.7.10"
        }
    },
    "nbformat": 4,
    "nbformat_minor": 1
}